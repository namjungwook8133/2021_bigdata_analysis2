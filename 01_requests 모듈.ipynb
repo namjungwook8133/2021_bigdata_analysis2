{
 "cells": [
  {
   "cell_type": "markdown",
   "id": "e2552d79-bf1f-4cef-a09e-2c502fd2c468",
   "metadata": {},
   "source": [
    "# 1. requests 모듈\n",
    "* HTTP request/response 처리를 위한 모듈\n",
    "* https://docs.python-requests.org/"
   ]
  },
  {
   "cell_type": "markdown",
   "id": "581877dd-933f-4e57-89cd-0ddf0137cd7b",
   "metadata": {},
   "source": [
    "## requests 모듈 import"
   ]
  },
  {
   "cell_type": "code",
   "execution_count": 2,
   "id": "79513fda-bcd3-4d42-8835-5b64b41ff34f",
   "metadata": {
    "tags": []
   },
   "outputs": [],
   "source": [
    "import requests"
   ]
  },
  {
   "cell_type": "code",
   "execution_count": 3,
   "id": "ef480a61-82e4-45e7-a91b-7a975b7928e2",
   "metadata": {
    "tags": []
   },
   "outputs": [
    {
     "data": {
      "text/plain": [
       "'2.25.1'"
      ]
     },
     "execution_count": 3,
     "metadata": {},
     "output_type": "execute_result"
    }
   ],
   "source": [
    "requests.__version__"
   ]
  },
  {
   "cell_type": "markdown",
   "id": "423dd7cf-3864-415f-bf57-01997f329c65",
   "metadata": {},
   "source": [
    "## get방식으로 요청하기 \n",
    "* naver 검색으로 get 방식 살펴보기\n",
    "* requests.get(url)\n",
    "* query parameter로 데이터 연결하기"
   ]
  },
  {
   "cell_type": "code",
   "execution_count": 4,
   "id": "c1d7b816-4ba8-4b41-882d-67f431a01db8",
   "metadata": {},
   "outputs": [
    {
     "data": {
      "text/plain": [
       "<Response [200]>"
      ]
     },
     "execution_count": 4,
     "metadata": {},
     "output_type": "execute_result"
    }
   ],
   "source": [
    "url = 'https://httpbin.org/get'\n",
    "params = {\n",
    "    'key1' : 'value1',\n",
    "    'key2' : 'value2'\n",
    "}\n",
    "\n",
    "res = requests.get(url,params=params)\n",
    "res"
   ]
  },
  {
   "cell_type": "code",
   "execution_count": 5,
   "id": "a10a9904-16df-4c4c-ade1-c70d353d24f7",
   "metadata": {},
   "outputs": [
    {
     "data": {
      "text/plain": [
       "200"
      ]
     },
     "execution_count": 5,
     "metadata": {},
     "output_type": "execute_result"
    }
   ],
   "source": [
    "res.status_code"
   ]
  },
  {
   "cell_type": "code",
   "execution_count": 6,
   "id": "a33cb9ef-eb9c-44fc-b2e2-eab445dfa4c0",
   "metadata": {},
   "outputs": [
    {
     "data": {
      "text/plain": [
       "{'Date': 'Thu, 12 Aug 2021 00:13:32 GMT', 'Content-Type': 'application/json', 'Content-Length': '380', 'Connection': 'keep-alive', 'Server': 'gunicorn/19.9.0', 'Access-Control-Allow-Origin': '*', 'Access-Control-Allow-Credentials': 'true'}"
      ]
     },
     "execution_count": 6,
     "metadata": {},
     "output_type": "execute_result"
    }
   ],
   "source": [
    "# 응답 헤더\n",
    "res.headers"
   ]
  },
  {
   "cell_type": "code",
   "execution_count": 7,
   "id": "bb5668d8-fa94-40c2-ab55-fff7ab37b316",
   "metadata": {},
   "outputs": [
    {
     "data": {
      "text/plain": [
       "{'User-Agent': 'python-requests/2.25.1', 'Accept-Encoding': 'gzip, deflate', 'Accept': '*/*', 'Connection': 'keep-alive'}"
      ]
     },
     "execution_count": 7,
     "metadata": {},
     "output_type": "execute_result"
    }
   ],
   "source": [
    "# 요청 헤더\n",
    "res.request.headers"
   ]
  },
  {
   "cell_type": "code",
   "execution_count": 8,
   "id": "3edb25e6-0cd7-422b-9f75-617ec7d7a7b3",
   "metadata": {},
   "outputs": [
    {
     "data": {
      "text/plain": [
       "'{\\n  \"args\": {\\n    \"key1\": \"value1\", \\n    \"key2\": \"value2\"\\n  }, \\n  \"headers\": {\\n    \"Accept\": \"*/*\", \\n    \"Accept-Encoding\": \"gzip, deflate\", \\n    \"Host\": \"httpbin.org\", \\n    \"User-Agent\": \"python-requests/2.25.1\", \\n    \"X-Amzn-Trace-Id\": \"Root=1-611467ac-55bc87ab27c0381b26923905\"\\n  }, \\n  \"origin\": \"125.186.251.167\", \\n  \"url\": \"https://httpbin.org/get?key1=value1&key2=value2\"\\n}\\n'"
      ]
     },
     "execution_count": 8,
     "metadata": {},
     "output_type": "execute_result"
    }
   ],
   "source": [
    "res.text"
   ]
  },
  {
   "cell_type": "code",
   "execution_count": 9,
   "id": "9da99aef-c8da-4a30-96ba-90f9b6a1cebb",
   "metadata": {},
   "outputs": [
    {
     "data": {
      "text/plain": [
       "{'args': {'key1': 'value1', 'key2': 'value2'},\n",
       " 'headers': {'Accept': '*/*',\n",
       "  'Accept-Encoding': 'gzip, deflate',\n",
       "  'Host': 'httpbin.org',\n",
       "  'User-Agent': 'python-requests/2.25.1',\n",
       "  'X-Amzn-Trace-Id': 'Root=1-611467ac-55bc87ab27c0381b26923905'},\n",
       " 'origin': '125.186.251.167',\n",
       " 'url': 'https://httpbin.org/get?key1=value1&key2=value2'}"
      ]
     },
     "execution_count": 9,
     "metadata": {},
     "output_type": "execute_result"
    }
   ],
   "source": [
    "res.json()"
   ]
  },
  {
   "cell_type": "code",
   "execution_count": 10,
   "id": "cd011248-d3c8-4134-b82f-8510ef258976",
   "metadata": {},
   "outputs": [
    {
     "data": {
      "text/plain": [
       "dict"
      ]
     },
     "execution_count": 10,
     "metadata": {},
     "output_type": "execute_result"
    }
   ],
   "source": [
    "type(res.json())"
   ]
  },
  {
   "cell_type": "code",
   "execution_count": 11,
   "id": "6683c183-b855-427c-b974-5dcc490cce95",
   "metadata": {},
   "outputs": [
    {
     "data": {
      "text/plain": [
       "'value1'"
      ]
     },
     "execution_count": 11,
     "metadata": {},
     "output_type": "execute_result"
    }
   ],
   "source": [
    "res.json()['args']['key1']"
   ]
  },
  {
   "cell_type": "code",
   "execution_count": 12,
   "id": "192f528d-9ba7-4e72-95c9-54866d4787ff",
   "metadata": {},
   "outputs": [
    {
     "data": {
      "text/plain": [
       "<Response [200]>"
      ]
     },
     "execution_count": 12,
     "metadata": {},
     "output_type": "execute_result"
    }
   ],
   "source": [
    "url = 'https://search.naver.com/search.naver'\n",
    "params = {\n",
    "    'query' : '디미고'\n",
    "}\n",
    "res = requests.get(url,params=params)\n",
    "res"
   ]
  },
  {
   "cell_type": "code",
   "execution_count": null,
   "id": "7f788e93-9b23-4000-b581-3b40ff50ed52",
   "metadata": {},
   "outputs": [],
   "source": [
    "res.text"
   ]
  },
  {
   "cell_type": "markdown",
   "id": "7ede6e72-0f23-4393-96d2-a5ac2e70fe0e",
   "metadata": {},
   "source": [
    "## post방식으로 요청하기\n",
    "* naver 로그인으로 post방식 살펴보기\n",
    "* requests.post(url)\n",
    "* form data로 데이터 전달하기"
   ]
  },
  {
   "cell_type": "code",
   "execution_count": 15,
   "id": "3f7d9c34-5032-4fcf-ab91-753503723a4a",
   "metadata": {},
   "outputs": [
    {
     "data": {
      "text/plain": [
       "<Response [200]>"
      ]
     },
     "execution_count": 15,
     "metadata": {},
     "output_type": "execute_result"
    }
   ],
   "source": [
    "url = 'https://httpbin.org/post'\n",
    "data = {\n",
    "    'id' : 'testid',\n",
    "    'pwd' : 'testpwd'\n",
    "}\n",
    "\n",
    "res = requests.post(url,data=data)\n",
    "res"
   ]
  },
  {
   "cell_type": "code",
   "execution_count": 16,
   "id": "476b349d-aa26-4d69-b7d9-cdfa55476953",
   "metadata": {},
   "outputs": [
    {
     "data": {
      "text/plain": [
       "'{\\n  \"args\": {}, \\n  \"data\": \"\", \\n  \"files\": {}, \\n  \"form\": {\\n    \"id\": \"testid\", \\n    \"pwd\": \"testpwd\"\\n  }, \\n  \"headers\": {\\n    \"Accept\": \"*/*\", \\n    \"Accept-Encoding\": \"gzip, deflate\", \\n    \"Content-Length\": \"21\", \\n    \"Content-Type\": \"application/x-www-form-urlencoded\", \\n    \"Host\": \"httpbin.org\", \\n    \"User-Agent\": \"python-requests/2.25.1\", \\n    \"X-Amzn-Trace-Id\": \"Root=1-611468f6-0b0f39495606446d1d706dc9\"\\n  }, \\n  \"json\": null, \\n  \"origin\": \"125.186.251.167\", \\n  \"url\": \"https://httpbin.org/post\"\\n}\\n'"
      ]
     },
     "execution_count": 16,
     "metadata": {},
     "output_type": "execute_result"
    }
   ],
   "source": [
    "res.text"
   ]
  },
  {
   "cell_type": "code",
   "execution_count": 18,
   "id": "4a378dd2-3d71-4b1c-9a3b-d74eb30f21d6",
   "metadata": {},
   "outputs": [
    {
     "data": {
      "text/plain": [
       "'testpwd'"
      ]
     },
     "execution_count": 18,
     "metadata": {},
     "output_type": "execute_result"
    }
   ],
   "source": [
    "res.json()['form']['pwd']"
   ]
  },
  {
   "cell_type": "code",
   "execution_count": 32,
   "id": "1089221b-4356-47ac-b1c7-0003ec833701",
   "metadata": {},
   "outputs": [
    {
     "data": {
      "text/plain": [
       "<Response [200]>"
      ]
     },
     "execution_count": 32,
     "metadata": {},
     "output_type": "execute_result"
    }
   ],
   "source": [
    "# 네이버 기사 찾아보기\n",
    "url = 'https://news.naver.com/main/read.naver?mode=LSD&mid=shm&sid1=105&oid=015&aid=0004590770'\n",
    "headers = {\"User-Agent\": \"Mozilla/5.0 (Macintosh; Intel Mac OS X 10_15_7) AppleWebKit/537.36 (KHTML, like Gecko) Chrome/92.0.4515.131 Safari/537.36}\"}\n",
    "res = requests.get(url,headers=headers)\n",
    "res"
   ]
  },
  {
   "cell_type": "code",
   "execution_count": null,
   "id": "30388d73-59b1-49cd-8c54-df4373727cdf",
   "metadata": {},
   "outputs": [],
   "source": [
    "res.text"
   ]
  },
  {
   "cell_type": "code",
   "execution_count": 28,
   "id": "fe75dbc3-e21d-420a-b851-ddfea3c91969",
   "metadata": {},
   "outputs": [
    {
     "data": {
      "text/plain": [
       "<Response [200]>"
      ]
     },
     "execution_count": 28,
     "metadata": {},
     "output_type": "execute_result"
    }
   ],
   "source": [
    "# 멜론 차트 검색\n",
    "url = 'https://www.melon.com/chart/index.htm'\n",
    "headers = {\"User-Agent\": \"Mozilla/5.0 (Macintosh; Intel Mac OS X 10_15_7) AppleWebKit/537.36 (KHTML, like Gecko) Chrome/92.0.4515.131 Safari/537.36}\"}\n",
    "res = requests.get(url,headers=headers)\n",
    "res"
   ]
  },
  {
   "cell_type": "code",
   "execution_count": null,
   "id": "fea31153-5674-4b50-ab9a-b7082c8d252e",
   "metadata": {},
   "outputs": [],
   "source": [
    "res.text"
   ]
  },
  {
   "cell_type": "code",
   "execution_count": 36,
   "id": "2cbb3c55-66e5-46fd-930e-94d3356637d7",
   "metadata": {},
   "outputs": [
    {
     "name": "stdout",
     "output_type": "stream",
     "text": [
      "<!DOCTYPE HTML> \n",
      "<html lang=\"ko\"> \n",
      "<head>\n",
      "<meta charset=\"euc-kr\">\n",
      "<meta http-equiv=\"X-UA-Compatible\" content=\"IE=edge\">\n",
      "<meta name=\"referrer\" contents=\"always\">\n",
      "<meta name=\"viewport\" content=\"width=1106\" />\n",
      "<title>'위기 몰린' 삼성, '갤럭시S'보다 싼 폴더블폰 내놨다 : 네이버 뉴스</title>\n",
      "\n",
      "\n",
      "\t\n",
      "\t\n",
      "\t\t\n",
      "\t\n",
      "\n",
      "\n",
      "\t\n",
      "\t\n",
      "\t\n",
      "\t\t\n",
      "\t\t\n",
      "\t\t\n",
      "\t\n",
      "\n",
      "<meta property=\"me2:post_tag\"\t\tcontent=\"한국경제 : 네이버뉴스\"/>\n",
      "<meta property=\"me2:category1\"\t\tcontent=\"한국경제\"/>\n",
      "<meta property=\"me2:category2\"\t\tcontent=\"IT/과학\"/>\n",
      "<meta property=\"me2:image\"\t\t\tcontent=\"https://imgnews.pstatic.net/image/015/2021/08/11/0004590770_001_20210812090602859.jpg\"/>\n",
      "\n",
      "<meta property=\"og:title\"\t\t\tcontent=\"'위기 몰린' 삼성, '갤럭시S'보다 싼 폴더블폰 내놨다\"/>\n",
      "<meta property=\"og:type\"\t\t\tcontent=\"article\"/>\n",
      "<meta property=\"og:url\"\t\t\t\tcontent=\"https://news.naver.com/main/read.naver?mode=LSD&mid=sec&oid=015&aid=0004590770&sid1=001\"/>\n",
      "<meta property=\"og:image\"\t\t\tcontent=\"https://imgnews.pstatic.net/image/015/2021/08/11/0004590770_001_20210812090602859.jpg\"/>\n",
      "<meta property=\"og:description\"\t\tcontent=\"삼\n"
     ]
    }
   ],
   "source": [
    "if res.status_code==requests.codes.ok: #200\n",
    "    print(res.text[:1000])\n",
    "else:\n",
    "    print('error')\n",
    "    "
   ]
  },
  {
   "cell_type": "code",
   "execution_count": null,
   "id": "cbc584a7-ee69-4a31-94f5-9d08202cbd25",
   "metadata": {},
   "outputs": [],
   "source": []
  }
 ],
 "metadata": {
  "kernelspec": {
   "display_name": "Python 3",
   "language": "python",
   "name": "python3"
  },
  "language_info": {
   "codemirror_mode": {
    "name": "ipython",
    "version": 3
   },
   "file_extension": ".py",
   "mimetype": "text/x-python",
   "name": "python",
   "nbconvert_exporter": "python",
   "pygments_lexer": "ipython3",
   "version": "3.8.8"
  }
 },
 "nbformat": 4,
 "nbformat_minor": 5
}
